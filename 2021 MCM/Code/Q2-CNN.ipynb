{
 "cells": [
  {
   "cell_type": "code",
   "execution_count": 9,
   "metadata": {},
   "outputs": [],
   "source": [
    "import tensorflow as tf\n",
    "import os\n",
    "import numpy as np\n",
    "from matplotlib import pyplot as plt\n",
    "from tensorflow.keras.layers import Conv2D, BatchNormalization, Activation, MaxPool2D, Dropout, Flatten, Dense\n",
    "from tensorflow.keras import Model\n",
    "np.set_printoptions(threshold=np.inf)"
   ]
  },
  {
   "cell_type": "code",
   "execution_count": 10,
   "metadata": {},
   "outputs": [
    {
     "name": "stderr",
     "output_type": "stream",
     "text": [
      "C:\\Users\\XAVIER~1\\AppData\\Local\\Temp/ipykernel_10228/3902692758.py:5: DeprecationWarning: `np.int` is a deprecated alias for the builtin `int`. To silence this warning, use `int` by itself. Doing this will not modify any behavior and is safe. When replacing `np.int`, you may wish to use e.g. `np.int64` or `np.int32` to specify the precision. If you wish to review your current use, check the release note link for additional information.\n",
      "Deprecated in NumPy 1.20; for more details and guidance: https://numpy.org/devdocs/release/1.20.0-notes.html#deprecations\n",
      "  y = np.hstack((np.ones(len(pos_data)).astype(np.int),np.zeros(len(neg_data)).astype(np.int)))\n"
     ]
    }
   ],
   "source": [
    "pos_data = np.load('pos_data.npy',allow_pickle=True)\n",
    "neg_data = np.load('neg_data.npy',allow_pickle=True)\n",
    "from sklearn.model_selection import train_test_split\n",
    "X = np.vstack((pos_data,neg_data))\n",
    "y = np.hstack((np.ones(len(pos_data)).astype(np.int),np.zeros(len(neg_data)).astype(np.int)))"
   ]
  },
  {
   "cell_type": "code",
   "execution_count": 11,
   "metadata": {},
   "outputs": [
    {
     "name": "stdout",
     "output_type": "stream",
     "text": [
      "x_train.shape (2199, 32, 32, 3)\n"
     ]
    }
   ],
   "source": [
    "x_train, x_test, y_train, y_test = train_test_split(X,y,test_size=0.3)\n",
    "x_train, x_test = x_train / 255.0, x_test / 255.0\n",
    "print(\"x_train.shape\", x_train.shape)"
   ]
  },
  {
   "cell_type": "code",
   "execution_count": 12,
   "metadata": {},
   "outputs": [
    {
     "data": {
      "image/png": "[encoded data removed]",
      "text/plain": [
       "<Figure size 432x288 with 1 Axes>"
      ]
     },
     "metadata": {
      "needs_background": "light"
     },
     "output_type": "display_data"
    }
   ],
   "source": [
    "plt.imshow(x_train[0])  # 绘制图片\n",
    "plt.show()"
   ]
  },
  {
   "cell_type": "code",
   "execution_count": 14,
   "metadata": {},
   "outputs": [
    {
     "name": "stdout",
     "output_type": "stream",
     "text": [
      "x_train.shape (2199, 32, 32, 3)\n"
     ]
    }
   ],
   "source": [
    "x_train = x_train.reshape(x_train.shape[0], 32, 32, 3)  # 给数据增加一个维度，使数据和网络结构匹配\n",
    "x_test = x_test.reshape(x_test.shape[0], 32, 32, 3)\n",
    "print(\"x_train.shape\", x_train.shape)"
   ]
  },
  {
   "cell_type": "code",
   "execution_count": 25,
   "metadata": {},
   "outputs": [],
   "source": [
    "class LeNet5(Model):\n",
    "    def __init__(self):\n",
    "        super(LeNet5, self).__init__()\n",
    "        self.c1 = Conv2D(filters=6, kernel_size=(5, 5),\n",
    "                         activation='sigmoid')\n",
    "        self.p1 = MaxPool2D(pool_size=(2, 2), strides=2)\n",
    "\n",
    "        self.c2 = Conv2D(filters=16, kernel_size=(5, 5),\n",
    "                         activation='sigmoid')\n",
    "        self.p2 = MaxPool2D(pool_size=(2, 2), strides=2)\n",
    "\n",
    "        self.flatten = Flatten()\n",
    "        self.f1 = Dense(120, activation='sigmoid')\n",
    "        self.f2 = Dense(84, activation='sigmoid')\n",
    "        self.f3 = Dense(2, activation='softmax')\n",
    "\n",
    "    def call(self, x):\n",
    "        x = self.c1(x)\n",
    "        x = self.p1(x)\n",
    "\n",
    "        x = self.c2(x)\n",
    "        x = self.p2(x)\n",
    "\n",
    "        x = self.flatten(x)\n",
    "        x = self.f1(x)\n",
    "        x = self.f2(x)\n",
    "        y = self.f3(x)\n",
    "        return y"
   ]
  },
  {
   "cell_type": "code",
   "execution_count": 48,
   "metadata": {},
   "outputs": [
    {
     "name": "stdout",
     "output_type": "stream",
     "text": [
      "Epoch 1/20\n",
      "69/69 [==============================] - 1s 9ms/step - loss: 0.0935 - sparse_categorical_accuracy: 0.9859 - val_loss: 0.0731 - val_sparse_categorical_accuracy: 0.9862\n",
      "Epoch 2/20\n",
      "69/69 [==============================] - 0s 7ms/step - loss: 0.0744 - sparse_categorical_accuracy: 0.9859 - val_loss: 0.0740 - val_sparse_categorical_accuracy: 0.9862\n",
      "Epoch 3/20\n",
      "69/69 [==============================] - 0s 6ms/step - loss: 0.0757 - sparse_categorical_accuracy: 0.9859 - val_loss: 0.0728 - val_sparse_categorical_accuracy: 0.9862\n",
      "Epoch 4/20\n",
      "69/69 [==============================] - 0s 6ms/step - loss: 0.0750 - sparse_categorical_accuracy: 0.9859 - val_loss: 0.0728 - val_sparse_categorical_accuracy: 0.9862\n",
      "Epoch 5/20\n",
      "69/69 [==============================] - 0s 6ms/step - loss: 0.0744 - sparse_categorical_accuracy: 0.9859 - val_loss: 0.0739 - val_sparse_categorical_accuracy: 0.9862\n",
      "Epoch 6/20\n",
      "69/69 [==============================] - 1s 8ms/step - loss: 0.0750 - sparse_categorical_accuracy: 0.9859 - val_loss: 0.0728 - val_sparse_categorical_accuracy: 0.9862\n",
      "Epoch 7/20\n",
      "69/69 [==============================] - 0s 7ms/step - loss: 0.0747 - sparse_categorical_accuracy: 0.9859 - val_loss: 0.0728 - val_sparse_categorical_accuracy: 0.9862\n",
      "Epoch 8/20\n",
      "69/69 [==============================] - 1s 9ms/step - loss: 0.0748 - sparse_categorical_accuracy: 0.9859 - val_loss: 0.0732 - val_sparse_categorical_accuracy: 0.9862\n",
      "Epoch 9/20\n",
      "69/69 [==============================] - 1s 9ms/step - loss: 0.0751 - sparse_categorical_accuracy: 0.9859 - val_loss: 0.0728 - val_sparse_categorical_accuracy: 0.9862\n",
      "Epoch 10/20\n",
      "69/69 [==============================] - 1s 8ms/step - loss: 0.0744 - sparse_categorical_accuracy: 0.9859 - val_loss: 0.0749 - val_sparse_categorical_accuracy: 0.9862\n",
      "Epoch 11/20\n",
      "69/69 [==============================] - 0s 7ms/step - loss: 0.0748 - sparse_categorical_accuracy: 0.9859 - val_loss: 0.0739 - val_sparse_categorical_accuracy: 0.9862\n",
      "Epoch 12/20\n",
      "69/69 [==============================] - 0s 7ms/step - loss: 0.0754 - sparse_categorical_accuracy: 0.9859 - val_loss: 0.0732 - val_sparse_categorical_accuracy: 0.9862\n",
      "Epoch 13/20\n",
      "69/69 [==============================] - 1s 9ms/step - loss: 0.0755 - sparse_categorical_accuracy: 0.9859 - val_loss: 0.0728 - val_sparse_categorical_accuracy: 0.9862\n",
      "Epoch 14/20\n",
      "69/69 [==============================] - 1s 8ms/step - loss: 0.0748 - sparse_categorical_accuracy: 0.9859 - val_loss: 0.0732 - val_sparse_categorical_accuracy: 0.9862\n",
      "Epoch 15/20\n",
      "69/69 [==============================] - 1s 7ms/step - loss: 0.0753 - sparse_categorical_accuracy: 0.9859 - val_loss: 0.0727 - val_sparse_categorical_accuracy: 0.9862\n",
      "Epoch 16/20\n",
      "69/69 [==============================] - 0s 7ms/step - loss: 0.0750 - sparse_categorical_accuracy: 0.9859 - val_loss: 0.0727 - val_sparse_categorical_accuracy: 0.9862\n",
      "Epoch 17/20\n",
      "69/69 [==============================] - 0s 7ms/step - loss: 0.0746 - sparse_categorical_accuracy: 0.9859 - val_loss: 0.0733 - val_sparse_categorical_accuracy: 0.9862\n",
      "Epoch 18/20\n",
      "69/69 [==============================] - 0s 7ms/step - loss: 0.0746 - sparse_categorical_accuracy: 0.9859 - val_loss: 0.0729 - val_sparse_categorical_accuracy: 0.9862\n",
      "Epoch 19/20\n",
      "69/69 [==============================] - 0s 7ms/step - loss: 0.0754 - sparse_categorical_accuracy: 0.9859 - val_loss: 0.0737 - val_sparse_categorical_accuracy: 0.9862\n",
      "Epoch 20/20\n",
      "69/69 [==============================] - 0s 6ms/step - loss: 0.0749 - sparse_categorical_accuracy: 0.9859 - val_loss: 0.0729 - val_sparse_categorical_accuracy: 0.9862\n",
      "Model: \"le_net5_9\"\n",
      "_________________________________________________________________\n",
      "Layer (type)                 Output Shape              Param #   \n",
      "=================================================================\n",
      "conv2d_18 (Conv2D)           multiple                  456       \n",
      "_________________________________________________________________\n",
      "max_pooling2d_18 (MaxPooling multiple                  0         \n",
      "_________________________________________________________________\n",
      "conv2d_19 (Conv2D)           multiple                  2416      \n",
      "_________________________________________________________________\n",
      "max_pooling2d_19 (MaxPooling multiple                  0         \n",
      "_________________________________________________________________\n",
      "flatten_9 (Flatten)          multiple                  0         \n",
      "_________________________________________________________________\n",
      "dense_27 (Dense)             multiple                  48120     \n",
      "_________________________________________________________________\n",
      "dense_28 (Dense)             multiple                  10164     \n",
      "_________________________________________________________________\n",
      "dense_29 (Dense)             multiple                  170       \n",
      "=================================================================\n",
      "Total params: 61,326\n",
      "Trainable params: 61,326\n",
      "Non-trainable params: 0\n",
      "_________________________________________________________________\n"
     ]
    }
   ],
   "source": [
    "model = LeNet5()\n",
    "model.compile(optimizer='adam',\n",
    "              loss=tf.keras.losses.SparseCategoricalCrossentropy(from_logits=False),\n",
    "              metrics=['sparse_categorical_accuracy'])\n",
    "history = model.fit(x_train, y_train, batch_size=32, epochs=20, validation_data=(x_test, y_test), validation_freq=1)\n",
    "model.summary()"
   ]
  },
  {
   "cell_type": "code",
   "execution_count": 49,
   "metadata": {},
   "outputs": [
    {
     "data": {
      "image/png": "[encoded data removed]",
      "text/plain": [
       "<Figure size 720x360 with 2 Axes>"
      ]
     },
     "metadata": {
      "needs_background": "light"
     },
     "output_type": "display_data"
    }
   ],
   "source": [
    "# 显示训练集和验证集的acc和loss曲线\n",
    "acc = history.history['sparse_categorical_accuracy']\n",
    "val_acc = history.history['val_sparse_categorical_accuracy']\n",
    "loss = history.history['loss']\n",
    "val_loss = history.history['val_loss']\n",
    "fig = plt.figure(figsize=(10,5))\n",
    "plt.subplot(1, 2, 1)\n",
    "plt.plot(acc, label='Training Accuracy')\n",
    "plt.plot(val_acc, label='Validation Accuracy')\n",
    "plt.title('Training and Validation Accuracy')\n",
    "plt.legend()\n",
    "\n",
    "plt.subplot(1, 2, 2)\n",
    "plt.plot(loss, label='Training Loss')\n",
    "plt.plot(val_loss, label='Validation Loss')\n",
    "plt.title('Training and Validation Loss')\n",
    "plt.legend()\n",
    "plt.show()"
   ]
  },
  {
   "cell_type": "code",
   "execution_count": 50,
   "metadata": {},
   "outputs": [
    {
     "name": "stderr",
     "output_type": "stream",
     "text": [
      "C:\\Users\\XAVIER~1\\AppData\\Local\\Temp/ipykernel_10228/4206567905.py:3: DeprecationWarning: `np.int` is a deprecated alias for the builtin `int`. To silence this warning, use `int` by itself. Doing this will not modify any behavior and is safe. When replacing `np.int`, you may wish to use e.g. `np.int64` or `np.int32` to specify the precision. If you wish to review your current use, check the release note link for additional information.\n",
      "Deprecated in NumPy 1.20; for more details and guidance: https://numpy.org/devdocs/release/1.20.0-notes.html#deprecations\n",
      "  pre_result = np.zeros_like(y_test).astype(np.int)\n"
     ]
    }
   ],
   "source": [
    "threshold = 0.5\n",
    "pre = model.predict(x_test)\n",
    "pre_result = np.zeros_like(y_test).astype(np.int)\n",
    "for i in range(len(pre)):\n",
    "    if pre[i][1] >= threshold:\n",
    "        pre_result[i] = 1"
   ]
  },
  {
   "cell_type": "code",
   "execution_count": 51,
   "metadata": {},
   "outputs": [
    {
     "name": "stdout",
     "output_type": "stream",
     "text": [
      "Accuracy: 0.9862142099681867\n"
     ]
    }
   ],
   "source": [
    "acc = 1 - np.sum(np.abs((y_test - pre_result)))/y_test.shape[0]\n",
    "print('Accuracy:',acc)"
   ]
  },
  {
   "cell_type": "code",
   "execution_count": null,
   "metadata": {},
   "outputs": [],
   "source": []
  },
  {
   "cell_type": "code",
   "execution_count": null,
   "metadata": {},
   "outputs": [],
   "source": []
  }
 ],
 "metadata": {
  "interpreter": {
   "hash": "6470f2147c2b739e48a69acfdaab591c02f2a6e83a181052e33caef4d986b070"
  },
  "kernelspec": {
   "display_name": "Python 3.9.7 64-bit ('ML': conda)",
   "name": "python3"
  },
  "language_info": {
   "codemirror_mode": {
    "name": "ipython",
    "version": 3
   },
   "file_extension": ".py",
   "mimetype": "text/x-python",
   "name": "python",
   "nbconvert_exporter": "python",
   "pygments_lexer": "ipython3",
   "version": "3.9.7"
  }
 },
 "nbformat": 4,
 "nbformat_minor": 4
}
